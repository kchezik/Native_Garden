{
 "cells": [
  {
   "cell_type": "code",
   "execution_count": 1,
   "metadata": {},
   "outputs": [],
   "source": [
    "import numpy as np\n",
    "import pandas as pd\n",
    "from requests import get\n",
    "from requests.exceptions import RequestException\n",
    "from contextlib import closing\n",
    "from bs4 import BeautifulSoup\n",
    "from urllib.request import urlopen\n",
    "from urllib.request import Request\n",
    "from urllib.request import urlopen\n",
    "import json\n",
    "import os\n",
    "import re\n",
    "import certifi"
   ]
  },
  {
   "cell_type": "code",
   "execution_count": 2,
   "metadata": {},
   "outputs": [],
   "source": [
    "def get_soup(url,header):\n",
    "    return BeautifulSoup(urlopen(Request(url,headers=header)),'html.parser')"
   ]
  },
  {
   "cell_type": "code",
   "execution_count": 9,
   "metadata": {},
   "outputs": [],
   "source": [
    "plants = pd.read_csv('../Nat_Gard_Build/models/USDA_Lady_Plants.csv', index_col = 0) #Read in native plant data\n",
    "df = plants[['Scientific_Name','Common_Name','USDA_ID']].drop_duplicates() #Remove duplicates.\n",
    "DIR=\"../Plant_Pics/\" #Set directory for photos.\n",
    "#Set the website header data.\n",
    "header1 = {'User-Agent':\"Mozilla/5.0 (Windows NT 6.1; WOW64) AppleWebKit/537.36 (KHTML, like Gecko) Chrome/43.0.2357.134 Safari/537.36\"}\n",
    "header2={'User-Agent' : \"Magic Browser\"}"
   ]
  },
  {
   "cell_type": "code",
   "execution_count": 50,
   "metadata": {},
   "outputs": [],
   "source": [
    "#Search Google image using the scientific and common name.\n",
    "for i in df.index[df.index>5936]:\n",
    "    #Create search queary\n",
    "    query = df['Scientific_Name'][i]+\" \"+df['Common_Name'][i]+\" identification\"\n",
    "    query = query.split()\n",
    "    query = '+'.join(query)\n",
    "    url = \"https://www.google.co.in/search?q=\"+query+\"&source=lnms&tbm=isch\"\n",
    "    #Retrieve website data\n",
    "    html = get_soup(url,header1)\n",
    "    #Grab the for first google image and determine type of image (e.g., JPG).\n",
    "    a = html.find(\"div\",{\"class\":\"rg_meta\"})\n",
    "    link , Type = json.loads(a.text)[\"ou\"]  ,json.loads(a.text)[\"ity\"]\n",
    "    img = urlopen(Request(url=link, headers=header2)).read()\n",
    "    #Create a file name\n",
    "    file = df['USDA_ID'][i]\n",
    "    file = file.replace(\" \",\"_\")\n",
    "    #Save image locally\n",
    "    f = open(os.path.join(DIR, file+\".\"+Type), 'wb')\n",
    "    f.write(img)\n",
    "    f.close()"
   ]
  },
  {
   "cell_type": "code",
   "execution_count": 179,
   "metadata": {},
   "outputs": [
    {
     "data": {
      "text/html": [
       "<div>\n",
       "<style scoped>\n",
       "    .dataframe tbody tr th:only-of-type {\n",
       "        vertical-align: middle;\n",
       "    }\n",
       "\n",
       "    .dataframe tbody tr th {\n",
       "        vertical-align: top;\n",
       "    }\n",
       "\n",
       "    .dataframe thead th {\n",
       "        text-align: right;\n",
       "    }\n",
       "</style>\n",
       "<table border=\"1\" class=\"dataframe\">\n",
       "  <thead>\n",
       "    <tr style=\"text-align: right;\">\n",
       "      <th></th>\n",
       "      <th>Scientific_Name</th>\n",
       "      <th>Common_Name</th>\n",
       "      <th>USDA_ID</th>\n",
       "    </tr>\n",
       "  </thead>\n",
       "  <tbody>\n",
       "    <tr>\n",
       "      <th>1819</th>\n",
       "      <td>Phleum alpinum</td>\n",
       "      <td>Alpine Timothy</td>\n",
       "      <td>PHAL2</td>\n",
       "    </tr>\n",
       "  </tbody>\n",
       "</table>\n",
       "</div>"
      ],
      "text/plain": [
       "     Scientific_Name     Common_Name USDA_ID\n",
       "1819  Phleum alpinum  Alpine Timothy   PHAL2"
      ]
     },
     "execution_count": 179,
     "metadata": {},
     "output_type": "execute_result"
    }
   ],
   "source": [
    "#Determin\n",
    "df[df['USDA_ID']=='PHAL2']"
   ]
  },
  {
   "cell_type": "code",
   "execution_count": 180,
   "metadata": {},
   "outputs": [
    {
     "name": "stdout",
     "output_type": "stream",
     "text": [
      "1819   PHAL2   Phleum alpinum \n",
      " https://www.google.co.in/search?q=Phleum+alpinum+Alpine+Timothy+identification&source=lnms&tbm=isch\n"
     ]
    }
   ],
   "source": [
    "i = 1819\n",
    "query = df['Scientific_Name'][i]+\" \"+df['Common_Name'][i]+\" identification\"\n",
    "query = query.split()\n",
    "query = '+'.join(query)\n",
    "url = \"https://www.google.co.in/search?q=\"+query+\"&source=lnms&tbm=isch\"\n",
    "print(i,\" \",df['USDA_ID'][i],\" \",df['Scientific_Name'][i],'\\n',url)"
   ]
  }
 ],
 "metadata": {
  "kernelspec": {
   "display_name": "Python 3",
   "language": "python",
   "name": "python3"
  },
  "language_info": {
   "codemirror_mode": {
    "name": "ipython",
    "version": 3
   },
   "file_extension": ".py",
   "mimetype": "text/x-python",
   "name": "python",
   "nbconvert_exporter": "python",
   "pygments_lexer": "ipython3",
   "version": "3.6.7"
  }
 },
 "nbformat": 4,
 "nbformat_minor": 2
}
